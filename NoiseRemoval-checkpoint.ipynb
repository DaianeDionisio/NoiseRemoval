{
 "cells": [
  {
   "cell_type": "code",
   "execution_count": null,
   "id": "b867a545",
   "metadata": {},
   "outputs": [],
   "source": [
    "#importa as bibliotecas\n",
    "import numpy as np\n",
    "import matplotlib.pyplot as plt\n",
    "from PIL import Image\n",
    "import cv2\n",
    "import time"
   ]
  },
  {
   "cell_type": "code",
   "execution_count": null,
   "id": "3a33e63d",
   "metadata": {},
   "outputs": [],
   "source": [
    "#determina o fato de balanceamento 0.2 -> média\n",
    "BALANCE_ALPHA = 0.2 "
   ]
  },
  {
   "cell_type": "code",
   "execution_count": null,
   "id": "db12a036",
   "metadata": {},
   "outputs": [],
   "source": [
    "#função que retorna a matriz 3x3 que será utilizada nos filtros\n",
    "def get_kernel():\n",
    "    return np.ones((3, 3), np.float32) / 9"
   ]
  },
  {
   "cell_type": "code",
   "execution_count": null,
   "id": "40ab9c96",
   "metadata": {},
   "outputs": [],
   "source": [
    "#função que atualiza o pixel com a media dos valores de brilho dos pixels vizinhos\n",
    "def get_mean_with_kernel(filter_area, kernel):\n",
    "    return np.sum(np.multiply(kernel, filter_area))"
   ]
  },
  {
   "cell_type": "code",
   "execution_count": null,
   "id": "473ef297",
   "metadata": {},
   "outputs": [],
   "source": [
    "#função que atualiza o pixel com o valor da mediana dos pixels do kernel\n",
    "def get_median(filter_area):\n",
    "    res = np.median(filter_area)\n",
    "    return res"
   ]
  },
  {
   "cell_type": "code",
   "execution_count": null,
   "id": "420f7e36",
   "metadata": {},
   "outputs": [],
   "source": [
    "#função que realiza o filtro balanceado da média e mediana\n",
    "def mean_median_balanced_filter(image, height, width):\n",
    "    for row in range(1, height + 1):\n",
    "        for column in range(1, width + 1):\n",
    "            filter_area = image[row - 1:row + 2, column - 1:column + 2]\n",
    "            mean_filter_vector = get_mean_with_kernel(filter_area, get_kernel())\n",
    "            median_filter_vector = get_median(filter_area)\n",
    "            image[row][column] = BALANCE_ALPHA * mean_filter_vector + (1 - BALANCE_ALPHA) * median_filter_vector\n",
    "    return image"
   ]
  },
  {
   "cell_type": "code",
   "execution_count": null,
   "id": "8036f274",
   "metadata": {},
   "outputs": [],
   "source": [
    "def filter_image(image, filtering_function):\n",
    "    \n",
    "    height, width = image.shape[:2]\n",
    "\n",
    "    #Adiciona 1 pixel nas bordas para que o kernel funcione corretamente\n",
    "    image = cv2.copyMakeBorder(image, 1, 1, 1, 1, cv2.BORDER_REFLECT)\n",
    "\n",
    "    #chama a função de balanceamento para relizar a redução de ruido\n",
    "    res = filtering_function(image, height, width)\n",
    "\n",
    "    return res"
   ]
  },
  {
   "cell_type": "code",
   "execution_count": null,
   "id": "6590a356",
   "metadata": {},
   "outputs": [],
   "source": [
    "ComRuido = np.array(Image.open('cameramanN1.jpg'))\n",
    "\n",
    "#converte a imagem em BGR para ser filtrada\n",
    "image = cv2.cvtColor(ComRuido, cv2.COLOR_BGR2GRAY)\n",
    "    \n",
    "filtered_image = filter_image(image, mean_median_balanced_filter)\n",
    "Image.fromarray(filtered_image).save('cameramanN2.jpg')\n",
    "SemRuido = np.array(Image.open('cameramanN2.jpg'))\n",
    "\n",
    "plt.figure(figsize=(8, 8))\n",
    "plt.subplot(2, 1, 1)\n",
    "plt.imshow(ComRuido)\n",
    "plt.subplot(2, 1, 2)\n",
    "plt.imshow(SemRuido, cmap='gray')"
   ]
  }
 ],
 "metadata": {
  "kernelspec": {
   "display_name": "Python 3 (ipykernel)",
   "language": "python",
   "name": "python3"
  },
  "language_info": {
   "codemirror_mode": {
    "name": "ipython",
    "version": 3
   },
   "file_extension": ".py",
   "mimetype": "text/x-python",
   "name": "python",
   "nbconvert_exporter": "python",
   "pygments_lexer": "ipython3",
   "version": "3.10.2"
  }
 },
 "nbformat": 4,
 "nbformat_minor": 5
}
